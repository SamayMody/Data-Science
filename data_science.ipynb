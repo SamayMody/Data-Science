{
  "nbformat": 4,
  "nbformat_minor": 0,
  "metadata": {
    "colab": {
      "provenance": [],
      "toc_visible": true,
      "authorship_tag": "ABX9TyNcQ9LVBFc2HdyjKR7nTzQt",
      "include_colab_link": true
    },
    "kernelspec": {
      "name": "python3",
      "display_name": "Python 3"
    },
    "language_info": {
      "name": "python"
    }
  },
  "cells": [
    {
      "cell_type": "markdown",
      "metadata": {
        "id": "view-in-github",
        "colab_type": "text"
      },
      "source": [
        "<a href=\"https://colab.research.google.com/github/SamayMody/Data-Science/blob/main/data_science.ipynb\" target=\"_parent\"><img src=\"https://colab.research.google.com/assets/colab-badge.svg\" alt=\"Open In Colab\"/></a>"
      ]
    },
    {
      "cell_type": "markdown",
      "source": [
        "# Day 1"
      ],
      "metadata": {
        "id": "LxUQEO5BT2DZ"
      }
    },
    {
      "cell_type": "code",
      "execution_count": null,
      "metadata": {
        "colab": {
          "base_uri": "https://localhost:8080/"
        },
        "id": "A-bl-oxyHbk5",
        "outputId": "93d3d7e2-2b82-48d0-c023-86af3698175b"
      },
      "outputs": [
        {
          "output_type": "stream",
          "name": "stdout",
          "text": [
            "Sum of the array: 15\n",
            "Sum of the minimum and maximum values: 6\n"
          ]
        }
      ],
      "source": [
        "import numpy as np\n",
        "import random\n",
        "\n",
        "# Perform min max sum using np\n",
        "\n",
        "# Create an array\n",
        "arr = np.array([1, 2, 3, 4, 5])\n",
        "\n",
        "# Calculate the sum of the array\n",
        "sum_arr = np.sum(arr)\n",
        "\n",
        "# Calculate the minimum and maximum values of the array\n",
        "min_val = np.min(arr)\n",
        "max_val = np.max(arr)\n",
        "\n",
        "# Calculate the sum of the minimum and maximum values\n",
        "sum_min_max = min_val + max_val\n",
        "\n",
        "# Print the results\n",
        "print(\"Sum of the array:\", sum_arr)\n",
        "print(\"Sum of the minimum and maximum values:\", sum_min_max)\n"
      ]
    },
    {
      "cell_type": "code",
      "source": [
        "B = np.random.randint(0, 100, size=(3, 3))\n",
        "print(\"B:\", B)\n",
        "print(\"\")\n",
        "print(\"Shape of B:\", B.shape)\n",
        "print(\"\")\n",
        "print(\"Size of B:\", B.size)\n",
        "print(\"\")\n",
        "print(\"Dimension of B:\", B.ndim)"
      ],
      "metadata": {
        "colab": {
          "base_uri": "https://localhost:8080/"
        },
        "id": "cyCeshd2OoEl",
        "outputId": "c08ad856-5300-4dfd-e822-b173db972242"
      },
      "execution_count": null,
      "outputs": [
        {
          "output_type": "stream",
          "name": "stdout",
          "text": [
            "B: [[22 95  6]\n",
            " [96 64 51]\n",
            " [89 27 16]]\n",
            "\n",
            "Shape of B: (3, 3)\n",
            "\n",
            "Size of B: 9\n",
            "\n",
            "Dimension of B: 2\n"
          ]
        }
      ]
    },
    {
      "cell_type": "markdown",
      "source": [
        "# Day 2"
      ],
      "metadata": {
        "id": "eB71-IxcUAPX"
      }
    },
    {
      "cell_type": "code",
      "source": [
        "C = np.array([12.3 , 34.2 , 5.3])\n",
        "print(\"C:\", C)"
      ],
      "metadata": {
        "colab": {
          "base_uri": "https://localhost:8080/"
        },
        "id": "_anaXTlZPaAQ",
        "outputId": "c72bf1bc-f4cd-4400-8dc4-d3c95a7a764f"
      },
      "execution_count": null,
      "outputs": [
        {
          "output_type": "stream",
          "name": "stdout",
          "text": [
            "C: [12.3 34.2  5.3]\n"
          ]
        }
      ]
    },
    {
      "cell_type": "code",
      "source": [
        "# To use array slicing\n",
        "arr = np.array([1, 2, 3, 4, 5])\n",
        "print(arr[1:4])"
      ],
      "metadata": {
        "colab": {
          "base_uri": "https://localhost:8080/"
        },
        "id": "J0s-peCyPL7B",
        "outputId": "8383477f-a304-46c7-e74f-a764a557d22a"
      },
      "execution_count": null,
      "outputs": [
        {
          "output_type": "stream",
          "name": "stdout",
          "text": [
            "[2 3 4]\n"
          ]
        }
      ]
    },
    {
      "cell_type": "code",
      "source": [
        "# to use zeros and ones anf full function\n",
        "arr3 = np.zeros(5)\n",
        "arr4 = np.ones(5)\n",
        "arr5 = np.full(5, 3)\n",
        "print(arr3)\n",
        "print(arr4)\n",
        "print(arr5)"
      ],
      "metadata": {
        "colab": {
          "base_uri": "https://localhost:8080/"
        },
        "id": "XWVJdpr5UJuk",
        "outputId": "18d5edc0-25b1-4613-9bbd-1bc1fed4dc5f"
      },
      "execution_count": 28,
      "outputs": [
        {
          "output_type": "stream",
          "name": "stdout",
          "text": [
            "[0. 0. 0. 0. 0.]\n",
            "[1. 1. 1. 1. 1.]\n",
            "[3 3 3 3 3]\n"
          ]
        }
      ]
    },
    {
      "cell_type": "markdown",
      "source": [
        "# Day 3"
      ],
      "metadata": {
        "id": "0-GgMO8XUXOf"
      }
    },
    {
      "cell_type": "code",
      "source": [
        "# To use mathemethical functions\n",
        "arr2 = np.array([1, 2, 3, 4, 5])\n",
        "print(np.sqrt(arr2))\n",
        "print(np.exp(arr2))\n",
        "print(np.log(arr2))\n",
        "print(np.sin(arr2))\n",
        "print(np.cos(arr2))\n",
        "print(np.tan(arr2))"
      ],
      "metadata": {
        "colab": {
          "base_uri": "https://localhost:8080/"
        },
        "id": "1ayG_fXpPQfK",
        "outputId": "b1b0bcb7-6356-409d-8d37-508ef11d6e7d"
      },
      "execution_count": null,
      "outputs": [
        {
          "output_type": "stream",
          "name": "stdout",
          "text": [
            "[1.         1.41421356 1.73205081 2.         2.23606798]\n",
            "[  2.71828183   7.3890561   20.08553692  54.59815003 148.4131591 ]\n",
            "[0.         0.69314718 1.09861229 1.38629436 1.60943791]\n",
            "[ 0.84147098  0.90929743  0.14112001 -0.7568025  -0.95892427]\n",
            "[ 0.54030231 -0.41614684 -0.9899925  -0.65364362  0.28366219]\n",
            "[ 1.55740772 -2.18503986 -0.14254654  1.15782128 -3.38051501]\n"
          ]
        }
      ]
    },
    {
      "cell_type": "code",
      "source": [
        "# using assignment operator\n",
        "arr6 = np.array([1, 2, 3, 4, 5])\n",
        "arr6 += 2\n",
        "print(arr6)"
      ],
      "metadata": {
        "colab": {
          "base_uri": "https://localhost:8080/"
        },
        "id": "yvuP8NHYPk2q",
        "outputId": "c7341143-e683-460f-c327-65944533f2ca"
      },
      "execution_count": null,
      "outputs": [
        {
          "output_type": "stream",
          "name": "stdout",
          "text": [
            "[3 4 5 6 7]\n"
          ]
        }
      ]
    },
    {
      "cell_type": "code",
      "source": [
        "# iterating arrays\n",
        "arr7 = np.array([1, 2, 3, 4, 5])\n",
        "for x in arr7:\n",
        "    print(x)"
      ],
      "metadata": {
        "colab": {
          "base_uri": "https://localhost:8080/"
        },
        "id": "iWOh_ooLP6rB",
        "outputId": "52e6ef1c-ed71-4a4a-d4c9-64b8dd4d379f"
      },
      "execution_count": null,
      "outputs": [
        {
          "output_type": "stream",
          "name": "stdout",
          "text": [
            "1\n",
            "2\n",
            "3\n",
            "4\n",
            "5\n"
          ]
        }
      ]
    },
    {
      "cell_type": "code",
      "source": [
        "# reshaping 1d to 2d\n",
        "arr8 = np.array([1, 2, 3, 4, 5, 6, 7, 8, 9, 10, 11, 12])\n",
        "newarr = arr8.reshape(4, 3)\n",
        "print(newarr)"
      ],
      "metadata": {
        "colab": {
          "base_uri": "https://localhost:8080/"
        },
        "id": "RnREFbMhQJhQ",
        "outputId": "d72172fa-333f-4818-fc80-19e898d6683d"
      },
      "execution_count": null,
      "outputs": [
        {
          "output_type": "stream",
          "name": "stdout",
          "text": [
            "[[ 1  2  3]\n",
            " [ 4  5  6]\n",
            " [ 7  8  9]\n",
            " [10 11 12]]\n"
          ]
        }
      ]
    },
    {
      "cell_type": "markdown",
      "source": [
        "# Day 4"
      ],
      "metadata": {
        "id": "ik0zg7e7Uc0Z"
      }
    },
    {
      "cell_type": "code",
      "source": [
        "# using vstack and hstack\n",
        "arr10 = np.array([1, 2, 3])\n",
        "arr11 = np.array([4, 5, 6])\n",
        "arr12 = np.vstack((arr10, arr11))\n",
        "print(arr12)\n",
        "arr13 = np.hstack((arr10, arr11))\n",
        "print(arr13)\n"
      ],
      "metadata": {
        "colab": {
          "base_uri": "https://localhost:8080/"
        },
        "id": "2smrbmodQP-J",
        "outputId": "19aea651-bfda-4de6-e65d-b91661250548"
      },
      "execution_count": null,
      "outputs": [
        {
          "output_type": "stream",
          "name": "stdout",
          "text": [
            "[[1 2 3]\n",
            " [4 5 6]]\n",
            "[1 2 3 4 5 6]\n"
          ]
        }
      ]
    },
    {
      "cell_type": "code",
      "source": [
        "# using split()\n",
        "arr14 = np.array([1, 2, 3, 4, 5, 6])\n",
        "newarr1 = np.array_split(arr14, 3)\n",
        "print(newarr1)"
      ],
      "metadata": {
        "colab": {
          "base_uri": "https://localhost:8080/"
        },
        "id": "FG7VMUNSQ7J8",
        "outputId": "c0857c24-8b9a-49bc-9da1-0e442745d315"
      },
      "execution_count": null,
      "outputs": [
        {
          "output_type": "stream",
          "name": "stdout",
          "text": [
            "[array([1, 2]), array([3, 4]), array([5, 6])]\n"
          ]
        }
      ]
    },
    {
      "cell_type": "code",
      "source": [
        "# using poission distribution, uniform distribution, chi-square distribution, binomial distribution, exponential\n",
        "arr15 = np.random.poisson(lam=2, size=10)\n",
        "print(arr15)\n",
        "arr16 = np.random.uniform(low=0.0, high=1.0, size=10)\n",
        "print(arr16)\n",
        "arr17 = np.random.chisquare(df=2, size=10)\n",
        "print(arr17)\n",
        "arr18 = np.random.binomial(n=10, p=0.5, size=10)\n",
        "print(arr18)\n",
        "arr19 = np.random.exponential(scale=1.0, size=10)\n",
        "print(arr19)"
      ],
      "metadata": {
        "colab": {
          "base_uri": "https://localhost:8080/"
        },
        "id": "z0kevtyZRJEn",
        "outputId": "0ea11160-e3cc-4e4a-f1fc-e2eff6b661fc"
      },
      "execution_count": null,
      "outputs": [
        {
          "output_type": "stream",
          "name": "stdout",
          "text": [
            "[2 2 2 1 2 1 1 0 2 3]\n",
            "[0.99327739 0.65609653 0.11752291 0.64350589 0.15229556 0.57055379\n",
            " 0.9666405  0.20151993 0.34662843 0.84587449]\n",
            "[8.56906994 0.38199794 2.23030288 0.92674712 0.41670225 4.4926235\n",
            " 0.34837375 2.58229392 1.18135492 1.88604209]\n",
            "[6 5 4 3 3 6 4 4 5 6]\n",
            "[2.07096168 0.96013993 1.08983    2.34728156 0.08321548 0.09325828\n",
            " 0.77886766 0.19755204 0.12758304 1.03119519]\n"
          ]
        }
      ]
    }
  ]
}